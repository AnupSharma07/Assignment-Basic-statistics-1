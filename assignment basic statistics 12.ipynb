{
 "cells": [
  {
   "cell_type": "code",
   "execution_count": null,
   "id": "45f9117b",
   "metadata": {},
   "outputs": [],
   "source": [
    "Below are the scores obtained by a student in tests \n",
    "34,36,36,38,38,39,39,40,40,41,41,41,41,42,42,45,49,56\n",
    "1)\tFind mean, median, variance, standard deviation.\n"
   ]
  },
  {
   "cell_type": "code",
   "execution_count": 1,
   "id": "973d3d5b",
   "metadata": {},
   "outputs": [],
   "source": [
    "##import libraries\n",
    "import numpy as np\n",
    "import pandas as pd\n",
    "import matplotlib.pyplot as plt\n",
    "import seaborn as sns\n",
    "%matplotlib inline"
   ]
  },
  {
   "cell_type": "code",
   "execution_count": 2,
   "id": "a42a94ef",
   "metadata": {},
   "outputs": [],
   "source": [
    "# LOAD DATASET\n",
    "student=pd.Series([34,36,36,38,38,39,39,40,40,41,41,41,41,42,42,45,49,56])"
   ]
  },
  {
   "cell_type": "code",
   "execution_count": 3,
   "id": "12d3f5bf",
   "metadata": {},
   "outputs": [
    {
     "data": {
      "text/plain": [
       "0     34\n",
       "1     36\n",
       "2     36\n",
       "3     38\n",
       "4     38\n",
       "5     39\n",
       "6     39\n",
       "7     40\n",
       "8     40\n",
       "9     41\n",
       "10    41\n",
       "11    41\n",
       "12    41\n",
       "13    42\n",
       "14    42\n",
       "15    45\n",
       "16    49\n",
       "17    56\n",
       "dtype: int64"
      ]
     },
     "execution_count": 3,
     "metadata": {},
     "output_type": "execute_result"
    }
   ],
   "source": [
    "student"
   ]
  },
  {
   "cell_type": "code",
   "execution_count": 4,
   "id": "14d4161c",
   "metadata": {},
   "outputs": [
    {
     "data": {
      "text/plain": [
       "41.0"
      ]
     },
     "execution_count": 4,
     "metadata": {},
     "output_type": "execute_result"
    }
   ],
   "source": [
    "# MEAN \n",
    "student.mean()"
   ]
  },
  {
   "cell_type": "code",
   "execution_count": 5,
   "id": "eb1f7dbb",
   "metadata": {},
   "outputs": [
    {
     "data": {
      "text/plain": [
       "40.5"
      ]
     },
     "execution_count": 5,
     "metadata": {},
     "output_type": "execute_result"
    }
   ],
   "source": [
    "# MEDIAN\n",
    "student.median()"
   ]
  },
  {
   "cell_type": "code",
   "execution_count": 6,
   "id": "4df19d04",
   "metadata": {},
   "outputs": [
    {
     "data": {
      "text/plain": [
       "0    41\n",
       "dtype: int64"
      ]
     },
     "execution_count": 6,
     "metadata": {},
     "output_type": "execute_result"
    }
   ],
   "source": [
    "# MODE\n",
    "student.mode()"
   ]
  },
  {
   "cell_type": "code",
   "execution_count": 7,
   "id": "3f9f994d",
   "metadata": {},
   "outputs": [
    {
     "data": {
      "text/plain": [
       "25.529411764705884"
      ]
     },
     "execution_count": 7,
     "metadata": {},
     "output_type": "execute_result"
    }
   ],
   "source": [
    "# variance\n",
    "student.var()"
   ]
  },
  {
   "cell_type": "code",
   "execution_count": 8,
   "id": "6abbd14b",
   "metadata": {},
   "outputs": [
    {
     "data": {
      "text/plain": [
       "5.05266382858645"
      ]
     },
     "execution_count": 8,
     "metadata": {},
     "output_type": "execute_result"
    }
   ],
   "source": [
    "# standard deviation.\n",
    "student.std()"
   ]
  },
  {
   "cell_type": "code",
   "execution_count": 9,
   "id": "05e91e8d",
   "metadata": {},
   "outputs": [
    {
     "data": {
      "text/plain": [
       "{'whiskers': [<matplotlib.lines.Line2D at 0x21725d0a040>,\n",
       "  <matplotlib.lines.Line2D at 0x21725d0a310>],\n",
       " 'caps': [<matplotlib.lines.Line2D at 0x21725d0a6a0>,\n",
       "  <matplotlib.lines.Line2D at 0x21725d0a8b0>],\n",
       " 'boxes': [<matplotlib.lines.Line2D at 0x21725cedd30>],\n",
       " 'medians': [<matplotlib.lines.Line2D at 0x21725d0ab80>],\n",
       " 'fliers': [<matplotlib.lines.Line2D at 0x21725d0ae50>],\n",
       " 'means': []}"
      ]
     },
     "execution_count": 9,
     "metadata": {},
     "output_type": "execute_result"
    },
    {
     "data": {
      "image/png": "[encoded data removed]",
      "text/plain": [
       "<Figure size 432x288 with 1 Axes>"
      ]
     },
     "metadata": {
      "needs_background": "light"
     },
     "output_type": "display_data"
    }
   ],
   "source": [
    "# BOXPLOT\n",
    "plt.boxplot(student)"
   ]
  },
  {
   "cell_type": "code",
   "execution_count": 10,
   "id": "d2e92934",
   "metadata": {},
   "outputs": [
    {
     "data": {
      "text/plain": [
       "(array([3., 2., 4., 6., 0., 1., 1., 0., 0., 1.]),\n",
       " array([34. , 36.2, 38.4, 40.6, 42.8, 45. , 47.2, 49.4, 51.6, 53.8, 56. ]),\n",
       " <BarContainer object of 10 artists>)"
      ]
     },
     "execution_count": 10,
     "metadata": {},
     "output_type": "execute_result"
    },
    {
     "data": {
      "image/png": "[encoded data removed]",
      "text/plain": [
       "<Figure size 432x288 with 1 Axes>"
      ]
     },
     "metadata": {
      "needs_background": "light"
     },
     "output_type": "display_data"
    }
   ],
   "source": [
    "# HISTOGRAM\n",
    "plt.hist(student) "
   ]
  },
  {
   "cell_type": "code",
   "execution_count": null,
   "id": "b17c4ee5",
   "metadata": {},
   "outputs": [],
   "source": [
    "Inference: The graph reveals that most of the students scored between 40 to 43 Marks. Highest marks was scored was 55 and \n",
    "    lowest marks were below 35. Few students managed to score between 45 and 50 marks. Remaining all students \n",
    "    scored below 43.5 marks making the mean and median centered closely around 40."
   ]
  }
 ],
 "metadata": {
  "kernelspec": {
   "display_name": "Python 3 (ipykernel)",
   "language": "python",
   "name": "python3"
  },
  "language_info": {
   "codemirror_mode": {
    "name": "ipython",
    "version": 3
   },
   "file_extension": ".py",
   "mimetype": "text/x-python",
   "name": "python",
   "nbconvert_exporter": "python",
   "pygments_lexer": "ipython3",
   "version": "3.9.12"
  }
 },
 "nbformat": 4,
 "nbformat_minor": 5
}
