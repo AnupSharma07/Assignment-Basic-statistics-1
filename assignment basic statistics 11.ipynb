{
 "cells": [
  {
   "cell_type": "markdown",
   "id": "23d2bb6b",
   "metadata": {},
   "source": [
    "Q11)  Suppose we want to estimate the average weight of an adult male in  Mexico. We draw a random sample of 2,000 men from a \n",
    "population of 3,000,000 men and weigh them. We find that the average person in our sample weighs 200 pounds, and the \n",
    "standard deviation of the sample is 30 pounds. Calculate 94%,98%,96% confidence interval?"
   ]
  },
  {
   "cell_type": "code",
   "execution_count": 2,
   "id": "109406ab",
   "metadata": {},
   "outputs": [],
   "source": [
    "##import libraries\n",
    "import pandas as pd\n",
    "import matplotlib.pyplot as plt\n",
    "import numpy as np\n",
    "import seaborn as sns\n",
    "from scipy import stats\n",
    "from scipy.stats import norm"
   ]
  },
  {
   "cell_type": "code",
   "execution_count": 3,
   "id": "712c352d",
   "metadata": {},
   "outputs": [
    {
     "data": {
      "text/plain": [
       "(198.738325292158, 201.261674707842)"
      ]
     },
     "execution_count": 3,
     "metadata": {},
     "output_type": "execute_result"
    }
   ],
   "source": [
    "# 94% CONFIDENCE INTERVAL\n",
    "stats.norm.interval(0.94,200,30/(2000**0.5))"
   ]
  },
  {
   "cell_type": "code",
   "execution_count": 6,
   "id": "0f9ccf77",
   "metadata": {},
   "outputs": [
    {
     "data": {
      "text/plain": [
       "(198.62230334813333, 201.37769665186667)"
      ]
     },
     "execution_count": 6,
     "metadata": {},
     "output_type": "execute_result"
    }
   ],
   "source": [
    "#96% CONFIDENCE INTERVAL\n",
    "stats.norm.interval(0.96,200,30/(2000**0.5))\n"
   ]
  },
  {
   "cell_type": "code",
   "execution_count": 7,
   "id": "8a468131",
   "metadata": {},
   "outputs": [
    {
     "data": {
      "text/plain": [
       "(198.43943840429978, 201.56056159570022)"
      ]
     },
     "execution_count": 7,
     "metadata": {},
     "output_type": "execute_result"
    }
   ],
   "source": [
    "#98% CONFIDENCE INTERVAL\n",
    "stats.norm.interval(0.98,200,30/(2000**0.5))\n"
   ]
  },
  {
   "cell_type": "code",
   "execution_count": null,
   "id": "f79a8ef1",
   "metadata": {},
   "outputs": [],
   "source": []
  }
 ],
 "metadata": {
  "kernelspec": {
   "display_name": "Python 3 (ipykernel)",
   "language": "python",
   "name": "python3"
  },
  "language_info": {
   "codemirror_mode": {
    "name": "ipython",
    "version": 3
   },
   "file_extension": ".py",
   "mimetype": "text/x-python",
   "name": "python",
   "nbconvert_exporter": "python",
   "pygments_lexer": "ipython3",
   "version": "3.9.12"
  }
 },
 "nbformat": 4,
 "nbformat_minor": 5
}
